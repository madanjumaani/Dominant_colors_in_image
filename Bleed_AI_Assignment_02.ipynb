{
  "cells": [
    {
      "cell_type": "markdown",
      "source": [
        "###**Importing Libraries**"
      ],
      "metadata": {
        "id": "a9FlCwXiA4nK"
      },
      "id": "a9FlCwXiA4nK"
    },
    {
      "cell_type": "code",
      "execution_count": null,
      "id": "01bcdf58",
      "metadata": {
        "id": "01bcdf58"
      },
      "outputs": [],
      "source": [
        "import numpy as np\n",
        "import cv2\n",
        "from collections import Counter\n",
        "from sklearn.cluster import KMeans\n",
        "from matplotlib import colors\n",
        "import matplotlib.pyplot as plt\n",
        "from google.colab import drive"
      ]
    },
    {
      "cell_type": "markdown",
      "source": [
        "**Convverting RGB to HEX**"
      ],
      "metadata": {
        "id": "H4IE2BqaBIV0"
      },
      "id": "H4IE2BqaBIV0"
    },
    {
      "cell_type": "code",
      "execution_count": null,
      "id": "18257545",
      "metadata": {
        "id": "18257545"
      },
      "outputs": [],
      "source": [
        "def rgb_to_hex(rgb_color):\n",
        "    hex_color= '#'\n",
        "    for i in rgb_color:\n",
        "        i =int(i)\n",
        "        hex_color+= (\"{:02x}\".format(i))\n",
        "    return hex_color"
      ]
    },
    {
      "cell_type": "markdown",
      "source": [
        "**Importing Images from Google Drive**"
      ],
      "metadata": {
        "id": "GCVJFu5RBpdc"
      },
      "id": "GCVJFu5RBpdc"
    },
    {
      "cell_type": "code",
      "execution_count": null,
      "id": "d6439674",
      "metadata": {
        "colab": {
          "base_uri": "https://localhost:8080/"
        },
        "id": "d6439674",
        "outputId": "32632ce7-32cd-448b-d4f2-4b8a8df66675"
      },
      "outputs": [
        {
          "output_type": "stream",
          "name": "stdout",
          "text": [
            "Drive already mounted at /content/drive; to attempt to forcibly remount, call drive.mount(\"/content/drive\", force_remount=True).\n"
          ]
        }
      ],
      "source": [
        "drive.mount('/content/drive')\n",
        "img_name=cv2.imread(\"/content/drive/My Drive/Datasets/img_01.jpg\")\n",
        "raw_img = cv2.cvtColor(img_name, cv2.COLOR_BGR2RGB)\n"
      ]
    },
    {
      "cell_type": "markdown",
      "source": [
        "I have used the images which I captured by my mobile and resize the image with given parameters."
      ],
      "metadata": {
        "id": "HO383-xjCMlA"
      },
      "id": "HO383-xjCMlA"
    },
    {
      "cell_type": "code",
      "execution_count": null,
      "id": "08b8e6e1",
      "metadata": {
        "colab": {
          "base_uri": "https://localhost:8080/"
        },
        "id": "08b8e6e1",
        "outputId": "61906c6b-eaeb-4e05-c564-8f2df72c05ba"
      },
      "outputs": [
        {
          "output_type": "execute_result",
          "data": {
            "text/plain": [
              "(600, 900, 3)"
            ]
          },
          "metadata": {},
          "execution_count": 45
        }
      ],
      "source": [
        "resize_img= cv2.resize(raw_img,(900,600),interpolation=cv2.INTER_AREA)\n",
        "resize_img.shape"
      ]
    },
    {
      "cell_type": "code",
      "execution_count": null,
      "id": "2164bf30",
      "metadata": {
        "colab": {
          "base_uri": "https://localhost:8080/"
        },
        "id": "2164bf30",
        "outputId": "dccfb2f4-bc08-4847-d5e7-7741ef7adbb8"
      },
      "outputs": [
        {
          "output_type": "execute_result",
          "data": {
            "text/plain": [
              "(7200000, 3)"
            ]
          },
          "metadata": {},
          "execution_count": 46
        }
      ],
      "source": [
        "reshape_img = raw_img.reshape(raw_img.shape[0]*raw_img.shape[1],3)\n",
        "reshape_img.shape"
      ]
    },
    {
      "cell_type": "markdown",
      "source": [
        "After the resizing images also applied re-shape the images."
      ],
      "metadata": {
        "id": "s6kVA9pZCyMP"
      },
      "id": "s6kVA9pZCyMP"
    },
    {
      "cell_type": "code",
      "execution_count": null,
      "id": "f9d4a157",
      "metadata": {
        "colab": {
          "base_uri": "https://localhost:8080/"
        },
        "id": "f9d4a157",
        "outputId": "7843c7ed-c7b4-437c-967f-a9d24e039205"
      },
      "outputs": [
        {
          "output_type": "execute_result",
          "data": {
            "text/plain": [
              "array([[50, 63, 80],\n",
              "       [58, 71, 88],\n",
              "       [57, 70, 87],\n",
              "       ...,\n",
              "       [27, 26, 22],\n",
              "       [37, 36, 32],\n",
              "       [35, 34, 30]], dtype=uint8)"
            ]
          },
          "metadata": {},
          "execution_count": 47
        }
      ],
      "source": [
        "reshape_img"
      ]
    },
    {
      "cell_type": "code",
      "execution_count": null,
      "id": "3cee3550",
      "metadata": {
        "id": "3cee3550"
      },
      "outputs": [],
      "source": [
        "KMeans_algo=KMeans(n_clusters=5)\n",
        "color_labels=KMeans_algo.fit_predict(reshape_img)\n",
        "center_colors= KMeans_algo.cluster_centers_"
      ]
    },
    {
      "cell_type": "markdown",
      "source": [
        "Applying the K-Means Clustering algorithm to get the results of Domaint colors. "
      ],
      "metadata": {
        "id": "6bUf0oLFDDgl"
      },
      "id": "6bUf0oLFDDgl"
    },
    {
      "cell_type": "code",
      "execution_count": null,
      "id": "129ec68d",
      "metadata": {
        "colab": {
          "base_uri": "https://localhost:8080/"
        },
        "id": "129ec68d",
        "outputId": "3ec9021b-e6a0-4dce-bc88-e125143ba01e"
      },
      "outputs": [
        {
          "output_type": "execute_result",
          "data": {
            "text/plain": [
              "array([1, 1, 1, ..., 2, 2, 2], dtype=int32)"
            ]
          },
          "metadata": {},
          "execution_count": 49
        }
      ],
      "source": [
        "color_labels "
      ]
    },
    {
      "cell_type": "code",
      "execution_count": null,
      "id": "93115471",
      "metadata": {
        "colab": {
          "base_uri": "https://localhost:8080/"
        },
        "id": "93115471",
        "outputId": "93317cdf-50cf-4e98-9471-926a623e5720"
      },
      "outputs": [
        {
          "output_type": "execute_result",
          "data": {
            "text/plain": [
              "array([[190.27421361, 161.73593357, 152.76463554],\n",
              "       [ 89.91970963,  94.96491507, 111.19195973],\n",
              "       [ 27.57429806,  28.69118387,  30.34238159],\n",
              "       [237.22139995, 198.75263126, 174.88042351],\n",
              "       [140.33633448, 129.33213983, 132.78339641]])"
            ]
          },
          "metadata": {},
          "execution_count": 50
        }
      ],
      "source": [
        "center_colors"
      ]
    },
    {
      "cell_type": "code",
      "execution_count": null,
      "id": "6613d37f",
      "metadata": {
        "colab": {
          "base_uri": "https://localhost:8080/"
        },
        "id": "6613d37f",
        "outputId": "d0cd642f-aac1-4766-f408-f1300bb4b901"
      },
      "outputs": [
        {
          "output_type": "execute_result",
          "data": {
            "text/plain": [
              "Counter({1: 1644382, 2: 1002103, 4: 1760123, 0: 1459492, 3: 1333900})"
            ]
          },
          "metadata": {},
          "execution_count": 51
        }
      ],
      "source": [
        "counts= Counter(color_labels)\n",
        "counts"
      ]
    },
    {
      "cell_type": "markdown",
      "source": [
        "After applying the algorithm, Now I have represented with pie graph the most domaint colors."
      ],
      "metadata": {
        "id": "ZbnMJ-UHDaE9"
      },
      "id": "ZbnMJ-UHDaE9"
    },
    {
      "cell_type": "code",
      "execution_count": null,
      "id": "0de752de",
      "metadata": {
        "colab": {
          "base_uri": "https://localhost:8080/"
        },
        "id": "0de752de",
        "outputId": "678a3ca1-5113-4762-c699-f40118791b65"
      },
      "outputs": [
        {
          "output_type": "execute_result",
          "data": {
            "text/plain": [
              "['#1b1c1e', '#8c8184', '#edc6ae', '#595e6f', '#bea198']"
            ]
          },
          "metadata": {},
          "execution_count": 52
        }
      ],
      "source": [
        "ordered_colors=[center_colors[i] for i in counts.keys()]\n",
        "hex_colors=[rgb_to_hex(ordered_colors[i]) for i in counts.keys()]\n",
        "hex_colors"
      ]
    },
    {
      "cell_type": "markdown",
      "source": [
        "**Pie Graph**"
      ],
      "metadata": {
        "id": "Doc9S6uQRtrN"
      },
      "id": "Doc9S6uQRtrN"
    },
    {
      "cell_type": "code",
      "execution_count": null,
      "id": "19b1fff5",
      "metadata": {
        "colab": {
          "base_uri": "https://localhost:8080/",
          "height": 640
        },
        "id": "19b1fff5",
        "outputId": "d99a1b7a-587d-4fbf-a0c6-2cd95118cc19"
      },
      "outputs": [
        {
          "output_type": "execute_result",
          "data": {
            "text/plain": [
              "([<matplotlib.patches.Wedge at 0x7feac069eb90>,\n",
              "  <matplotlib.patches.Wedge at 0x7feac0751bd0>,\n",
              "  <matplotlib.patches.Wedge at 0x7feac06aa050>,\n",
              "  <matplotlib.patches.Wedge at 0x7feac06aa6d0>,\n",
              "  <matplotlib.patches.Wedge at 0x7feac06b3550>],\n",
              " [Text(0.8287991961168557, 0.7232509194712814, '#1b1c1e'),\n",
              "  Text(-0.32659311387281326, 1.0503984662835624, '#8c8184'),\n",
              "  Text(-1.0977409073618118, 0.07046204868200996, '#edc6ae'),\n",
              "  Text(-0.25085517527028034, -1.0710143234523604, '#595e6f'),\n",
              "  Text(0.9188870556328095, -0.6046871744881533, '#bea198')])"
            ]
          },
          "metadata": {},
          "execution_count": 53
        },
        {
          "output_type": "display_data",
          "data": {
            "text/plain": [
              "<Figure size 864x576 with 1 Axes>"
            ],
            "image/png": "[encoded data removed]"
          },
          "metadata": {}
        }
      ],
      "source": [
        "plt.figure(figsize=(12,8))\n",
        "plt.pie(counts.values(),labels=hex_colors, colors=hex_colors)\n"
      ]
    },
    {
      "cell_type": "markdown",
      "source": [
        "After the final results I have applied on another photos and got the accurate results."
      ],
      "metadata": {
        "id": "Sw-TNsx2Dwz3"
      },
      "id": "Sw-TNsx2Dwz3"
    },
    {
      "cell_type": "code",
      "execution_count": null,
      "id": "db6c1fdc",
      "metadata": {
        "id": "db6c1fdc"
      },
      "outputs": [],
      "source": [
        "drive.mount('/content/drive')\n",
        "img_name_2=cv2.imread(\"/content/drive/My Drive/Datasets/img_02.jpg\")\n",
        "raw_img_2 = cv2.cvtColor(img_name_2, cv2.COLOR_BGR2RGB)"
      ]
    },
    {
      "cell_type": "code",
      "execution_count": null,
      "id": "d6113118",
      "metadata": {
        "id": "d6113118",
        "outputId": "0bd5410d-8b9f-45e0-a76e-e7f7d87452e4"
      },
      "outputs": [
        {
          "data": {
            "text/plain": [
              "(600, 900, 3)"
            ]
          },
          "execution_count": 16,
          "metadata": {},
          "output_type": "execute_result"
        }
      ],
      "source": [
        "resize_img= cv2.resize(raw_img_2,(900,600),interpolation=cv2.INTER_AREA)\n",
        "resize_img.shape"
      ]
    },
    {
      "cell_type": "code",
      "execution_count": null,
      "id": "ad8e9cf7",
      "metadata": {
        "id": "ad8e9cf7",
        "outputId": "fb3b34ac-3c82-4306-88d0-a2307dd36ded"
      },
      "outputs": [
        {
          "data": {
            "text/plain": [
              "(7200000, 3)"
            ]
          },
          "execution_count": 17,
          "metadata": {},
          "output_type": "execute_result"
        }
      ],
      "source": [
        "reshape_img_2 = raw_img_2.reshape(raw_img_2.shape[0]*raw_img_2.shape[1],3)\n",
        "reshape_img_2.shape"
      ]
    },
    {
      "cell_type": "code",
      "execution_count": null,
      "id": "f93ce79b",
      "metadata": {
        "id": "f93ce79b"
      },
      "outputs": [],
      "source": [
        "KMeans_algo=KMeans(n_clusters=5)\n",
        "color_labels=KMeans_algo.fit_predict(reshape_img_2)\n",
        "center_colors= KMeans_algo.cluster_centers_"
      ]
    },
    {
      "cell_type": "code",
      "execution_count": null,
      "id": "43d30149",
      "metadata": {
        "id": "43d30149",
        "outputId": "d2f0f9b6-6782-45a2-9ecb-cbd09ccf0de7"
      },
      "outputs": [
        {
          "data": {
            "text/plain": [
              "['#cbe5f2', '#add3eb', '#5d5c5e', '#1f2020', '#706e6f']"
            ]
          },
          "execution_count": 19,
          "metadata": {},
          "output_type": "execute_result"
        }
      ],
      "source": [
        "ordered_colors=[center_colors[i] for i in counts.keys()]\n",
        "hex_colors=[rgb_to_hex(ordered_colors[i]) for i in counts.keys()]\n",
        "hex_colors"
      ]
    },
    {
      "cell_type": "code",
      "execution_count": null,
      "id": "5566da0e",
      "metadata": {
        "id": "5566da0e",
        "outputId": "8f44a4f1-86cc-4191-8811-e3ba81d6a963"
      },
      "outputs": [
        {
          "data": {
            "text/plain": [
              "([<matplotlib.patches.Wedge at 0x23813af4580>,\n",
              "  <matplotlib.patches.Wedge at 0x23813af4a60>,\n",
              "  <matplotlib.patches.Wedge at 0x23813af4ee0>,\n",
              "  <matplotlib.patches.Wedge at 0x23813b013a0>,\n",
              "  <matplotlib.patches.Wedge at 0x23813b01820>],\n",
              " [Text(0.8086462334292484, 0.7457152735197864, '#cbe5f2'),\n",
              "  Text(-0.3839429256155659, 1.0308190092687273, '#add3eb'),\n",
              "  Text(-1.0999142306889074, -0.013736270528391535, '#5d5c5e'),\n",
              "  Text(-0.16028862223681914, -1.0882589570416696, '#1f2020'),\n",
              "  Text(0.9394326608602271, -0.57224669130461, '#706e6f')])"
            ]
          },
          "execution_count": 20,
          "metadata": {},
          "output_type": "execute_result"
        },
        {
          "data": {
            "image/png": "[encoded data removed]",
            "text/plain": [
              "<Figure size 864x576 with 1 Axes>"
            ]
          },
          "metadata": {},
          "output_type": "display_data"
        }
      ],
      "source": [
        "plt.figure(figsize=(12,8))\n",
        "plt.pie(counts.values(),labels=hex_colors, colors=hex_colors)"
      ]
    },
    {
      "cell_type": "markdown",
      "source": [
        "After the further results I have applied one more images."
      ],
      "metadata": {
        "id": "7-j8jMh5QEyv"
      },
      "id": "7-j8jMh5QEyv"
    },
    {
      "cell_type": "code",
      "source": [
        "drive.mount('/content/drive')\n",
        "img_name_3=cv2.imread(\"/content/drive/My Drive/Datasets/img_03.jpg\")\n",
        "raw_img_3 = cv2.cvtColor(img_name_3, cv2.COLOR_BGR2RGB)"
      ],
      "metadata": {
        "colab": {
          "base_uri": "https://localhost:8080/"
        },
        "id": "H572GWEnEMrH",
        "outputId": "ac2048a0-8756-43e3-8c20-ce1c30a80d49"
      },
      "id": "H572GWEnEMrH",
      "execution_count": null,
      "outputs": [
        {
          "output_type": "stream",
          "name": "stdout",
          "text": [
            "Drive already mounted at /content/drive; to attempt to forcibly remount, call drive.mount(\"/content/drive\", force_remount=True).\n"
          ]
        }
      ]
    },
    {
      "cell_type": "code",
      "execution_count": null,
      "id": "4df09756",
      "metadata": {
        "colab": {
          "base_uri": "https://localhost:8080/"
        },
        "id": "4df09756",
        "outputId": "8fa86e43-200c-456b-fbb2-a9eaee18c1f2"
      },
      "outputs": [
        {
          "output_type": "execute_result",
          "data": {
            "text/plain": [
              "(600, 900, 3)"
            ]
          },
          "metadata": {},
          "execution_count": 37
        }
      ],
      "source": [
        "resize_img_3= cv2.resize(raw_img_3,(900,600),interpolation=cv2.INTER_AREA)\n",
        "resize_img_3.shape"
      ]
    },
    {
      "cell_type": "code",
      "source": [
        "reshape_img_3 = raw_img_3.reshape(raw_img_3.shape[0]*raw_img_3.shape[1],3)\n",
        "reshape_img_3.shape"
      ],
      "metadata": {
        "colab": {
          "base_uri": "https://localhost:8080/"
        },
        "id": "rPmuTdteFSk5",
        "outputId": "b44a6a24-3d63-44bb-931b-55523f250a98"
      },
      "id": "rPmuTdteFSk5",
      "execution_count": null,
      "outputs": [
        {
          "output_type": "execute_result",
          "data": {
            "text/plain": [
              "(7200000, 3)"
            ]
          },
          "metadata": {},
          "execution_count": 38
        }
      ]
    },
    {
      "cell_type": "code",
      "source": [
        "KMeans_algo=KMeans(n_clusters=5)\n",
        "color_labels=KMeans_algo.fit_predict(reshape_img_3)\n",
        "center_colors= KMeans_algo.cluster_centers_"
      ],
      "metadata": {
        "id": "DYSzV55HFS7t"
      },
      "id": "DYSzV55HFS7t",
      "execution_count": null,
      "outputs": []
    },
    {
      "cell_type": "code",
      "source": [
        "ordered_colors=[center_colors[i] for i in counts.keys()]\n",
        "hex_colors=[rgb_to_hex(ordered_colors[i]) for i in counts.keys()]\n",
        "hex_colors"
      ],
      "metadata": {
        "colab": {
          "base_uri": "https://localhost:8080/"
        },
        "id": "8iymoF2gFTN0",
        "outputId": "2e90f549-775b-492a-f4cc-4791765c765e"
      },
      "id": "8iymoF2gFTN0",
      "execution_count": null,
      "outputs": [
        {
          "output_type": "execute_result",
          "data": {
            "text/plain": [
              "['#312911', '#98845c', '#cdb795', '#ecd9c5', '#69542f']"
            ]
          },
          "metadata": {},
          "execution_count": 40
        }
      ]
    },
    {
      "cell_type": "code",
      "source": [
        "plt.figure(figsize=(12,8))\n",
        "plt.pie(counts.values(),labels=hex_colors, colors=hex_colors)"
      ],
      "metadata": {
        "colab": {
          "base_uri": "https://localhost:8080/",
          "height": 640
        },
        "id": "-tGdGKxbP6pE",
        "outputId": "1f06f8fa-84dd-487f-93db-308300ffd3f3"
      },
      "id": "-tGdGKxbP6pE",
      "execution_count": null,
      "outputs": [
        {
          "output_type": "execute_result",
          "data": {
            "text/plain": [
              "([<matplotlib.patches.Wedge at 0x7feac073b810>,\n",
              "  <matplotlib.patches.Wedge at 0x7feac077c5d0>,\n",
              "  <matplotlib.patches.Wedge at 0x7feac07462d0>,\n",
              "  <matplotlib.patches.Wedge at 0x7feac0746390>,\n",
              "  <matplotlib.patches.Wedge at 0x7feac0751210>],\n",
              " [Text(0.82698551092298, 0.725324041186736, '#312911'),\n",
              "  Text(-0.33186102922874516, 1.048746040411709, '#98845c'),\n",
              "  Text(-1.09836170847869, 0.06001297649486241, '#cdb795'),\n",
              "  Text(-0.23841025649360217, -1.073853132229289, '#ecd9c5'),\n",
              "  Text(0.921660866481769, -0.6004508699269866, '#69542f')])"
            ]
          },
          "metadata": {},
          "execution_count": 41
        },
        {
          "output_type": "display_data",
          "data": {
            "text/plain": [
              "<Figure size 864x576 with 1 Axes>"
            ],
            "image/png": "[encoded data removed]"
          },
          "metadata": {}
        }
      ]
    }
  ],
  "metadata": {
    "kernelspec": {
      "display_name": "Python 3",
      "language": "python",
      "name": "python3"
    },
    "language_info": {
      "codemirror_mode": {
        "name": "ipython",
        "version": 3
      },
      "file_extension": ".py",
      "mimetype": "text/x-python",
      "name": "python",
      "nbconvert_exporter": "python",
      "pygments_lexer": "ipython3",
      "version": "3.8.8"
    },
    "colab": {
      "provenance": []
    }
  },
  "nbformat": 4,
  "nbformat_minor": 5
}